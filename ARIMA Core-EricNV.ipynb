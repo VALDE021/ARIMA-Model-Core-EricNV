{
 "cells": [
  {
   "cell_type": "markdown",
   "id": "f5ba7916-939f-4dbc-9afd-c3431d9a8485",
   "metadata": {},
   "source": [
    "# <center><u> ARIMA Models (Core)\n",
    "* Authored By: Eric N. Valdez\n",
    "* Date 2/12/2024"
   ]
  },
  {
   "cell_type": "markdown",
   "id": "1b3fa3d2-68d4-4d1b-aed7-91a745cc1518",
   "metadata": {},
   "source": [
    "## `ARIMA Models Core Assignment`\n",
    "* Load [this Walmart stock data](https://drive.google.com/file/d/1KKR8TZbkixVN2NundM2mEVv5AhjHhs9a/view).     ([source](https://www.kaggle.com/datasets/meetnagadia/walmart-stock-price-from-19722022))\n",
    "* We will use data from 2010 to 2020 to predict the Adjusted Close values for the next quarter"
   ]
  },
  {
   "cell_type": "markdown",
   "id": "90608c07-e3a3-4107-8587-297524a2cd62",
   "metadata": {},
   "source": [
    "## `Imports:`"
   ]
  },
  {
   "cell_type": "code",
   "execution_count": null,
   "id": "5afb0d24-3d5b-452a-af1d-4d41795dd52e",
   "metadata": {},
   "outputs": [],
   "source": [
    "import pandas as pd\n",
    "import numpy as np\n",
    "import matplotlib.pyplot as plt\n",
    "from pmdarima.arima.utils import ndiffs\n",
    "from statsmodels.tsa.stattools import adfuller\n",
    "from statsmodels.graphics.tsaplots import plot_acf, plot_pacf\n",
    "from statsmodels.tsa.arima.model import ARIMA\n",
    "from sklearn.model_selection import TimeSeriesSplit\n",
    "from sklearn.metrics import mean_absolute_error, mean_absolute_percentage_error\n",
    "from datetime import timedelta\n",
    "import statsmodels.tsa.api as tsa\n",
    "from pmdarima.model_selection import train_test_split\n",
    "import itertools"
   ]
  },
  {
   "cell_type": "code",
   "execution_count": null,
   "id": "cb94a6d7-38f2-45d5-8069-553a05500602",
   "metadata": {},
   "outputs": [],
   "source": [
    "def plot_forecast(ts_train, ts_test, forecast_df, n_train_lags=None, \n",
    "                  figsize=(10,4), title='Comparing Forecast vs. True Data'):\n",
    "    ### PLot training data, and forecast (with upper/,lower ci)\n",
    "    fig, ax = plt.subplots(figsize=figsize)\n",
    "\n",
    "    # setting the number of train lags to plot if not specified\n",
    "    if n_train_lags==None:\n",
    "        n_train_lags = len(ts_train)\n",
    "            \n",
    "    # Plotting Training  and test data\n",
    "    ts_train.iloc[-n_train_lags:].plot(ax=ax, label=\"train\")\n",
    "    ts_test.plot(label=\"test\", ax=ax)\n",
    "\n",
    "    # Plot forecast\n",
    "    forecast_df['mean'].plot(ax=ax, color='green', label=\"forecast\")\n",
    "\n",
    "    # Add the shaded confidence interval\n",
    "    ax.fill_between(forecast_df.index, \n",
    "                    forecast_df['mean_ci_lower'],\n",
    "                   forecast_df['mean_ci_upper'],\n",
    "                   color='green', alpha=0.3,  lw=2)\n",
    "\n",
    "    # set the title and add legend\n",
    "    ax.set_title(title)\n",
    "    ax.legend();\n",
    "    \n",
    "    return fig, ax"
   ]
  },
  {
   "cell_type": "code",
   "execution_count": null,
   "id": "57fcf6ea-990c-4a54-a28a-fd52849c0d9b",
   "metadata": {},
   "outputs": [],
   "source": [
    "# Custom function for Ad Fuller Test\n",
    "def get_adfuller_results(ts, alpha=.05, label='adfuller', **kwargs): #kwargs for adfuller()\n",
    "    # Saving each output\n",
    "    (test_stat, pval, nlags, nobs, crit_vals_d, \n",
    "    icbest ) = tsa.adfuller(ts, **kwargs)\n",
    "    # Converting output to a dictionary with the interpretation of p\n",
    "    adfuller_results = {'Test Statistic': test_stat,\n",
    "                        \"# of Lags Used\":nlags, \n",
    "                       '# of Observations':nobs,\n",
    "                        'p-value': round(pval,6),\n",
    "                        'alpha': alpha,\n",
    "                       'sig/stationary?': pval < alpha}\n",
    "    return pd.DataFrame(adfuller_results, index =[label])"
   ]
  },
  {
   "cell_type": "code",
   "execution_count": null,
   "id": "ea89f379-721f-47de-9a2d-13650438cc44",
   "metadata": {},
   "outputs": [],
   "source": [
    "from sklearn.metrics import mean_absolute_error, mean_squared_error, r2_score, mean_absolute_percentage_error\n",
    "\n",
    "def regression_metrics_ts(ts_true, ts_pred, label=\"\", verbose=True, output_dict=False,):\n",
    "    # Get metrics\n",
    "    mae = mean_absolute_error(ts_true, ts_pred)\n",
    "    mse = mean_squared_error(ts_true, ts_pred)\n",
    "    rmse = mean_squared_error(ts_true, ts_pred, squared=False)\n",
    "    r_squared = r2_score(ts_true, ts_pred)\n",
    "    mae_perc = mean_absolute_percentage_error(ts_true, ts_pred) * 100\n",
    "\n",
    "    if verbose == True:\n",
    "        # Print Result with label\n",
    "        header = \"---\" * 20\n",
    "        print(header, f\"Regression Metrics: {label}\", header, sep=\"\\n\")\n",
    "        print(f\"- MAE = {mae:,.3f}\")\n",
    "        print(f\"- MSE = {mse:,.3f}\")\n",
    "        print(f\"- RMSE = {rmse:,.3f}\")\n",
    "        print(f\"- R^2 = {r_squared:,.3f}\")\n",
    "        print(f\"- MAPE = {mae_perc:,.2f}%\")\n",
    "\n",
    "    if output_dict == True:\n",
    "        metrics = {\n",
    "            \"Label\": label,\n",
    "            \"MAE\": mae,\n",
    "            \"MSE\": mse,\n",
    "            \"RMSE\": rmse,\n",
    "            \"R^2\": r_squared,\n",
    "            \"MAPE(%)\": mae_perc,\n",
    "        }\n",
    "        return metrics"
   ]
  },
  {
   "cell_type": "code",
   "execution_count": null,
   "id": "c4cb54c2-baa8-458b-9efa-d7e4b59f49de",
   "metadata": {},
   "outputs": [],
   "source": [
    "def plot_acf_pacf(ts, nlags=40, figsize=(10, 5), \n",
    "                  annotate_sig=False, alpha=.05,\n",
    "                 acf_kws={}, pacf_kws={},  \n",
    "                  annotate_seas=False, m = None,\n",
    "                 seas_color='black'):\n",
    "    \n",
    "    fig, axes = plt.subplots(nrows=2, figsize=figsize)\n",
    "\n",
    "    \n",
    "    # Sig lags line style\n",
    "    sig_vline_kwargs = dict( ls=':', lw=1, zorder=0, color='red')\n",
    "\n",
    "    # ACF\n",
    "    tsa.graphics.plot_acf(ts, ax=axes[0], lags=nlags, **acf_kws)\n",
    "    \n",
    "    ## Annotating sig acf lags\n",
    "    if annotate_sig == True:\n",
    "        sig_acf_lags = get_sig_lags(ts,nlags=nlags,alpha=alpha, type='ACF')\n",
    "        for lag in sig_acf_lags:\n",
    "            axes[0].axvline(lag,label='sig', **sig_vline_kwargs )\n",
    "\n",
    "    # PACF\n",
    "    tsa.graphics.plot_pacf(ts,ax=axes[1], lags=nlags, **pacf_kws)\n",
    "    \n",
    "    ## Annotating sig pacf lags\n",
    "    if annotate_sig == True:\n",
    "        ## ANNOTATING SIG LAGS\n",
    "        sig_pacf_lags = get_sig_lags(ts,nlags=nlags,alpha=alpha, type='PACF')\n",
    "        for lag in sig_pacf_lags:\n",
    "            axes[1].axvline(lag, label='sig', **sig_vline_kwargs)\n",
    "\n",
    "\n",
    "\n",
    "    \n",
    "    ### ANNOTATE SEASONS\n",
    "    if annotate_seas == True:\n",
    "        # Ensure m was defined\n",
    "        if m is None:\n",
    "            raise Exception(\"Must define value of m if annotate_seas=True.\")\n",
    "\n",
    "        ## Calculate number of complete seasons to annotate\n",
    "        n_seasons = nlags//m \n",
    "\n",
    "        # Seasonal Lines style\n",
    "        seas_vline_kwargs = dict( ls='--',lw=1, alpha=.7, color=seas_color, zorder=-1)\n",
    "        \n",
    "        ## for each season, add a line\n",
    "        for i in range(1, n_seasons+1):\n",
    "            axes[0].axvline(m*i, **seas_vline_kwargs, label=\"season\")\n",
    "            axes[1].axvline(m*i, **seas_vline_kwargs, label=\"season\")\n",
    "\n",
    "    fig.tight_layout()\n",
    "    \n",
    "    return fig"
   ]
  },
  {
   "cell_type": "markdown",
   "id": "654c4dc6-cc2d-4d9f-84aa-d7595a9510e0",
   "metadata": {},
   "source": [
    "## `Load Data:`"
   ]
  },
  {
   "cell_type": "code",
   "execution_count": null,
   "id": "3122ceb7-90d0-49dd-807c-8c66e05f23c8",
   "metadata": {},
   "outputs": [],
   "source": [
    "# Loading Dataframe\n",
    "df = pd.read_csv('Data/WMT.csv')\n",
    "df.head()"
   ]
  },
  {
   "cell_type": "code",
   "execution_count": null,
   "id": "92ee60c6-b2ba-424d-afb6-b014dc8f05c7",
   "metadata": {},
   "outputs": [],
   "source": [
    "# Looking at Info\n",
    "df.info()"
   ]
  },
  {
   "cell_type": "markdown",
   "id": "1214e106-0f90-4eaf-88b8-3e3cf01aee67",
   "metadata": {},
   "source": [
    "* ### `Make a datetime index using the Date Column with a business day frequency ('B')`"
   ]
  },
  {
   "cell_type": "code",
   "execution_count": null,
   "id": "b0d16692-4cd7-4232-9fd8-32b74853522a",
   "metadata": {},
   "outputs": [],
   "source": [
    "# Make a datetime index using the Date column with a business day frequency ('B')\n",
    "df['Date'] = pd.to_datetime(df['Date'], errors='coerce')\n",
    "df.set_index('Date', inplace=True)\n",
    "df = df.asfreq('B')\n",
    "df.info()"
   ]
  },
  {
   "cell_type": "markdown",
   "id": "c66eeaaa-a8a5-4cb0-8e85-948c35435393",
   "metadata": {},
   "source": [
    "* ### `Check for and address null values`"
   ]
  },
  {
   "cell_type": "code",
   "execution_count": null,
   "id": "7001bf64-7422-4f83-9b73-6edcb6abbfa1",
   "metadata": {},
   "outputs": [],
   "source": [
    "# Checking for nulls\n",
    "df.isnull().sum()"
   ]
  },
  {
   "cell_type": "code",
   "execution_count": null,
   "id": "e8321ea0-3390-4652-8032-09a9b0b9db3f",
   "metadata": {},
   "outputs": [],
   "source": [
    "# Filling forward to address null values\n",
    "df['Adj Close'] = df['Adj Close'].ffill()"
   ]
  },
  {
   "cell_type": "code",
   "execution_count": null,
   "id": "47787d67-3630-476a-8e32-33c55014c53d",
   "metadata": {},
   "outputs": [],
   "source": [
    "# Rechecking my null values\n",
    "df.isnull().sum()"
   ]
  },
  {
   "cell_type": "code",
   "execution_count": null,
   "id": "7918cf38-00f3-4d17-b239-cc0607b2ff43",
   "metadata": {},
   "outputs": [],
   "source": [
    "# Rechecking my Information\n",
    "df.info()"
   ]
  },
  {
   "cell_type": "code",
   "execution_count": null,
   "id": "64549e57-7505-407f-8601-e4e16684dbfd",
   "metadata": {},
   "outputs": [],
   "source": [
    "# Looking at the first 10 of the dataframe\n",
    "df.head(10)"
   ]
  },
  {
   "cell_type": "markdown",
   "id": "6c881ba6-5b66-4812-9645-39d0951e3e03",
   "metadata": {},
   "source": [
    "* ### `Check the time series for staionarity`\n",
    "    * Determine the number of differencing (d) needed to make the data stationary. (We recommend using pmdarima's ndiffs)"
   ]
  },
  {
   "cell_type": "code",
   "execution_count": null,
   "id": "67854e40-6174-43d7-bf76-33673e92a1e0",
   "metadata": {},
   "outputs": [],
   "source": [
    "# ploting raw data\n",
    "plt.plot(ts, label='Walmart Stock Price')\n",
    "plt.title('Walmart Stock Price')\n",
    "plt.xlabel('Date')\n",
    "plt.ylabel('Stock Price')\n",
    "plt.show()"
   ]
  },
  {
   "cell_type": "code",
   "execution_count": null,
   "id": "25205cd4-45fa-4aad-9192-15d2504e2ea8",
   "metadata": {},
   "outputs": [],
   "source": [
    "# Testing the raw data for stationarity\n",
    "get_adfuller_results(df)"
   ]
  },
  {
   "cell_type": "code",
   "execution_count": null,
   "id": "78f18406-7a36-4e03-8e53-a7e524059729",
   "metadata": {},
   "outputs": [],
   "source": [
    "# Applying diffenrencing to raw data\n",
    "d = ndiffs(df)\n",
    "print(d)"
   ]
  },
  {
   "cell_type": "code",
   "execution_count": null,
   "id": "f33d958c-ad31-4601-a254-1466a52f295f",
   "metadata": {},
   "outputs": [],
   "source": [
    "# # raw data is not stationary, so we will apply differencing\n",
    "# df_diff = df.diff().dropna()\n",
    "# df_diff.plot()\n",
    "\n",
    "# # Checking for stationarity\n",
    "# get_adfuller_results(df_diff)"
   ]
  },
  {
   "cell_type": "code",
   "execution_count": null,
   "id": "6e34ea17-60a1-41d2-9af6-58d7c7377685",
   "metadata": {},
   "outputs": [],
   "source": [
    "# use ndiffs to determine differencing\n",
    "d = ndiffs(ts)\n",
    "print(f'd is {d}')"
   ]
  },
  {
   "cell_type": "code",
   "execution_count": null,
   "id": "cc821fd5-7258-48e7-9960-e3801bee6ae5",
   "metadata": {},
   "outputs": [],
   "source": [
    "# # Plot differenced data\n",
    "# df_diff.plot();"
   ]
  },
  {
   "cell_type": "code",
   "execution_count": null,
   "id": "ac3a6f14-7d1e-49b4-84fe-4b13582a98c0",
   "metadata": {},
   "outputs": [],
   "source": []
  },
  {
   "cell_type": "markdown",
   "id": "473fd2b1-ce46-44f6-b4da-e6c9d7032f69",
   "metadata": {},
   "source": [
    "* ### `Use ACF/PACF plots of the stationary data to estimate initial time series model orders (p, d, q)`"
   ]
  },
  {
   "cell_type": "code",
   "execution_count": null,
   "id": "d1c8deba-a50d-4bf2-b0e8-7038e0cc54d2",
   "metadata": {},
   "outputs": [],
   "source": [
    "# Use differenced (stationary) data to plot ACF and PACF\n",
    "plot_acf_pacf(ts_diff2);"
   ]
  },
  {
   "cell_type": "markdown",
   "id": "4945a7f7-6a0b-46f3-996d-562d2dd366fd",
   "metadata": {},
   "source": [
    "* ### `Split the time series into training and test data.` <u>Use a test_size of one quarter (13 weeks X 5 business days)"
   ]
  },
  {
   "cell_type": "code",
   "execution_count": null,
   "id": "4249efc3-d431-4343-9f77-df71298b2c49",
   "metadata": {},
   "outputs": [],
   "source": [
    "# Calculating number of test lags\n",
    "# Split the time series into training and test data\n",
    "n_test_lags = 5*13\n",
    "\n",
    "# Modeling to predict 6 months into the future\n",
    "train, test = train_test_split(df, test_size=n_test_lags)\n",
    "ax = train.plot(label='Train')\n",
    "test.plot(ax=ax, label='Test')\n",
    "ax.legend();"
   ]
  },
  {
   "cell_type": "code",
   "execution_count": null,
   "id": "bcabaa21-0527-4729-ba03-90a0ea3ee919",
   "metadata": {},
   "outputs": [],
   "source": [
    "# from pmdarima.model_selection import train_test_split\n",
    "# # Splitting the ts into ttd\n",
    "# train, test = train_test_split(df, test_size = .25)\n",
    "# ax = train.plot(label='Train')\n",
    "# test.plot(ax=ax, label='Test')\n",
    "# ax.legend();"
   ]
  },
  {
   "cell_type": "markdown",
   "id": "75166bb3-219c-41aa-bac8-84688e0d5a93",
   "metadata": {},
   "source": [
    "* ### `Fit an ARIMA model based on the orders determined during your exploration.`\n",
    "    * Make forecasts with your model\n",
    "    * Plot the forecasts versus the test data.\n",
    "    * Obtain metrics for evaluation."
   ]
  },
  {
   "cell_type": "code",
   "execution_count": null,
   "id": "683dcdf9-1c68-4d4c-af9e-48b2526ec189",
   "metadata": {},
   "outputs": [],
   "source": [
    "# Build the model \n",
    "p = 0  # AR component \n",
    "\n",
    "d = 2  # Number of differencing required to make stationary\n",
    "\n",
    "q =  1 # MA component \n",
    "\n",
    "# Define and fit the model\n",
    "arima_model = tsa.ARIMA(train, order=(p,d,q)).fit()"
   ]
  },
  {
   "cell_type": "code",
   "execution_count": null,
   "id": "bcbf8b4f-7800-4ef5-91cc-9fb4d8ef5421",
   "metadata": {},
   "outputs": [],
   "source": [
    "# Obtain summary of forecast as dataframe\n",
    "forecast_df = arima_model.get_forecast(len(test)).summary_frame()\n",
    "\n",
    "# Plot the forecast with true values\n",
    "plot_forecast(train, test, forecast_df)\n",
    "\n",
    "# Obtain metrics\n",
    "regression_metrics_ts(test, forecast_df['mean'])"
   ]
  },
  {
   "cell_type": "code",
   "execution_count": null,
   "id": "6a7109c8-70f9-46dc-8390-48921e00bb58",
   "metadata": {},
   "outputs": [],
   "source": [
    "# Obtain summary of model\n",
    "arima_model.summary()"
   ]
  },
  {
   "cell_type": "markdown",
   "id": "9d70aa06-e4c9-4c34-b341-3155373d421c",
   "metadata": {},
   "source": [
    "`Warnings:`\n",
    "[1] Covariance matrix calculated using the outer products of gradients (complex-step)."
   ]
  },
  {
   "cell_type": "code",
   "execution_count": null,
   "id": "cbd50b91-aab4-4962-9860-d03c724f0c67",
   "metadata": {},
   "outputs": [],
   "source": [
    "# Obtain diagnostic plots\n",
    "fig = arima_model.plot_diagnostics()\n",
    "fig.set_size_inches(10,6)\n",
    "fig.tight_layout()"
   ]
  },
  {
   "cell_type": "markdown",
   "id": "d160a342-6ea8-434b-9b0c-ed8bd279e36f",
   "metadata": {},
   "source": [
    "* ### `Try` <u>`at least one variation`</u> `of the model for comparison (we recommend using a loop to try combinations of model orders)`"
   ]
  },
  {
   "cell_type": "code",
   "execution_count": null,
   "id": "4d08755d-0788-4dc0-8641-c7ada12d9c65",
   "metadata": {},
   "outputs": [],
   "source": [
    "# Define the value or range of values for p, d, q\n",
    "p_values = range(0, 7)  \n",
    "d_values = [2]          \n",
    "q_values = range(0, 7)  \n",
    "\n",
    "# Create combinations of pdq to test\n",
    "pdq_to_try = list(itertools.product(p_values, d_values, q_values))\n",
    "                                            \n",
    "pdq_to_try"
   ]
  },
  {
   "cell_type": "code",
   "execution_count": null,
   "id": "fb6953dd-6652-4b03-936d-17ce6ed3f6c1",
   "metadata": {},
   "outputs": [],
   "source": [
    "# define starting aic as infinity\n",
    "best_aic = float(\"inf\")  \n",
    "\n",
    "# define baseline for pdq\n",
    "best_pdq = (0,0,0)\n",
    "\n",
    "# Loop through each combination\n",
    "for pdq in pdq_to_try:\n",
    "    \n",
    "    model = tsa.ARIMA(train, order=pdq)\n",
    "                              \n",
    "    result = model.fit()\n",
    "    \n",
    "    print(pdq, result.aic)      \n",
    "    \n",
    "    # If lower, replace best AIC with new value\n",
    "    if result.aic < best_aic:\n",
    "        \n",
    "        best_aic = result.aic\n",
    "        best_pdq = pdq\n",
    "\n",
    "# Print the best orders and AIC score\n",
    "print(\"Best AIC:\", best_aic)\n",
    "print(\"Best pdq:\", best_pdq)"
   ]
  },
  {
   "cell_type": "code",
   "execution_count": null,
   "id": "f02c7e91-5fca-4c68-b9a7-3bd6650108c2",
   "metadata": {},
   "outputs": [],
   "source": [
    "# Build the model with the best AIC\n",
    "# Try at least one variation of the model for comparison (we recommend using a loop to try combinations of model orders)\n",
    "p = 6  # AR component \n",
    "\n",
    "d = 2  # Number of differencing required to make stationary\n",
    "\n",
    "q =  3 # MA component \n",
    "\n",
    "# Define and fit the model\n",
    "tuned_model = tsa.ARIMA(train, order=(p,d,q)).fit()"
   ]
  },
  {
   "cell_type": "markdown",
   "id": "7472cd41-658f-4600-999a-3aaaeb991463",
   "metadata": {},
   "source": [
    "* ### `A MAPE of less than 2% on hte test data is achievable.`"
   ]
  },
  {
   "cell_type": "code",
   "execution_count": null,
   "id": "bb766a46-1304-4303-872c-917dcffda849",
   "metadata": {},
   "outputs": [],
   "source": [
    "# Obtain summary of forecast as dataframe\n",
    "forecast_df = tuned_model.get_forecast(len(test)).summary_frame()\n",
    "# Plot the forecast with true values\n",
    "plot_forecast(train, test, forecast_df)\n",
    "# Obtain metrics\n",
    "regression_metrics_ts(test, forecast_df['mean'])"
   ]
  },
  {
   "cell_type": "code",
   "execution_count": null,
   "id": "26ff2e92-98a2-404a-90cf-017359de02a5",
   "metadata": {},
   "outputs": [],
   "source": [
    "# Obtain summary of forecast as dataframe\n",
    "forecast_df = arima_model.get_forecast(len(test)).summary_frame()\n",
    "\n",
    "# Plot the forecast with true values\n",
    "plot_forecast(train, test, forecast_df)\n",
    "\n",
    "# Obtain metrics\n",
    "regression_metrics_ts(test, forecast_df['mean'])"
   ]
  },
  {
   "cell_type": "markdown",
   "id": "faa562ed-233c-46d1-91dd-b78ae75a6cc6",
   "metadata": {},
   "source": [
    "* ### `Choose a final model and explain:`\n",
    "  * How good was your model, according to your Mean Absolute Percentage Error?\n",
    "  * How good was your model in terms of how well the forecast seems to follow the test data, visually? ***`(Hint: You may want to plot fewer training data lags to see this)`***"
   ]
  },
  {
   "cell_type": "markdown",
   "id": "299b4a2e-3148-45b7-b967-a0f613cf4e43",
   "metadata": {},
   "source": []
  }
 ],
 "metadata": {
  "kernelspec": {
   "display_name": "Python 3 (ipykernel)",
   "language": "python",
   "name": "python3"
  },
  "language_info": {
   "codemirror_mode": {
    "name": "ipython",
    "version": 3
   },
   "file_extension": ".py",
   "mimetype": "text/x-python",
   "name": "python",
   "nbconvert_exporter": "python",
   "pygments_lexer": "ipython3",
   "version": "3.10.10"
  },
  "widgets": {
   "application/vnd.jupyter.widget-state+json": {
    "state": {},
    "version_major": 2,
    "version_minor": 0
   }
  }
 },
 "nbformat": 4,
 "nbformat_minor": 5
}
